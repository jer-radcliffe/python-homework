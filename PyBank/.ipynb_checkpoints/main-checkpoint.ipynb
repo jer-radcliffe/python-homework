{
 "cells": [
  {
   "cell_type": "code",
   "execution_count": 4,
   "metadata": {},
   "outputs": [],
   "source": [
    "#import libraries\n",
    "from pathlib import Path\n",
    "import csv"
   ]
  },
  {
   "cell_type": "code",
   "execution_count": 11,
   "metadata": {},
   "outputs": [
    {
     "ename": "NameError",
     "evalue": "name 'showMe' is not defined",
     "output_type": "error",
     "traceback": [
      "\u001b[0;31m---------------------------------------------------------------------------\u001b[0m",
      "\u001b[0;31mNameError\u001b[0m                                 Traceback (most recent call last)",
      "\u001b[0;32m<ipython-input-11-229c69c84085>\u001b[0m in \u001b[0;36m<module>\u001b[0;34m\u001b[0m\n\u001b[1;32m     56\u001b[0m \u001b[0;34m\u001b[0m\u001b[0m\n\u001b[1;32m     57\u001b[0m \u001b[0;31m#evaluate results\u001b[0m\u001b[0;34m\u001b[0m\u001b[0;34m\u001b[0m\u001b[0;34m\u001b[0m\u001b[0m\n\u001b[0;32m---> 58\u001b[0;31m \u001b[0mshowMe\u001b[0m\u001b[0;34m(\u001b[0m\u001b[0;34m)\u001b[0m\u001b[0;34m\u001b[0m\u001b[0;34m\u001b[0m\u001b[0m\n\u001b[0m\u001b[1;32m     59\u001b[0m \u001b[0;34m\u001b[0m\u001b[0m\n\u001b[1;32m     60\u001b[0m \u001b[0;32mdef\u001b[0m \u001b[0mshowMe\u001b[0m\u001b[0;34m(\u001b[0m\u001b[0;34m)\u001b[0m\u001b[0;34m:\u001b[0m\u001b[0;34m\u001b[0m\u001b[0;34m\u001b[0m\u001b[0m\n",
      "\u001b[0;31mNameError\u001b[0m: name 'showMe' is not defined"
     ]
    }
   ],
   "source": [
    "# Set the input file path irregardless of OS\n",
    "filepath = Path(\"Resources/budget_data.csv\")\n",
    "\n",
    "\n",
    "#intialize metrix variables\n",
    "total_months = 0\n",
    "total = 0    \n",
    "changes = [] \n",
    "prev_change = 0  \n",
    "prev_amount = 0  \n",
    "max_increase = 0 \n",
    "max_increase_month = ''\n",
    "max_decrease = 0       \n",
    "max_decrease_month = ''\n",
    "\n",
    "\n",
    "with open(filepath, 'r') as csvfile:\n",
    "    \n",
    "    #read as csv as convert to list\n",
    "    csvreader = csv.reader(csvfile, delimiter=',')\n",
    "    #data_lines = list(csv_data)\n",
    "    \n",
    "    #move over header in file\n",
    "    header = next(csvreader)\n",
    "     \n",
    "    #iterate over rows in csvfile    \n",
    "    for row in csvreader:\n",
    "        \n",
    "        #unpack the row data to variables\n",
    "        date,curr_amount = row\n",
    "        \n",
    "        #update month counter\n",
    "        total_months+=1\n",
    "        \n",
    "        #capture the change between current and previous\n",
    "        change = int(curr_amount) - int(prev_amount)\n",
    "\n",
    "        #save current row data for next loop\n",
    "        changes.append(change)\n",
    "        prev_amount = curr_amount\n",
    "        prev_change = change\n",
    "\n",
    "        #update max incr/decr with dates\n",
    "        if change > max_increase:\n",
    "            max_increase = change\n",
    "            max_increase_month = date\n",
    "        elif change < max_decrease:\n",
    "            max_decrease = change\n",
    "            max_decrease_month = date\n",
    "\n",
    "        total+= int(curr_amount)\n",
    "        \n",
    "#shift series 1 to remove first period from averages\n",
    "changes.pop(0)\n",
    "average_change = round(sum(changes) / (total_months-1),2)\n",
    "\n",
    "#evaluate results\n",
    "showMe()\n",
    "\n",
    "def showMe():\n",
    "    #print(changes)\n",
    "    #print(changes_dictionary)\n",
    "    res = ''\n",
    "    res = 'Financial Analysis\\n'\n",
    "    res+= '-' *28 + '\\n'\n",
    "    res+= 'Total Months: {}\\n'.format(total_months)\n",
    "    res+= 'Total: ${}\\n'.format(total)\n",
    "    res+= 'Average Change: ${}\\n'.format(average_change)\n",
    "    res+= 'Greatest Increase in Profits: {} (${})\\n'.format(max_increase_month,max_increase)\n",
    "    res+= 'Greatest Decrease in Profits: {} (${})\\n'.format(max_decrease_month,max_decrease)\n",
    "    \n",
    "    #show to console\n",
    "    print(res)\n",
    "    \n",
    "    #export\n",
    "    export(res)\n",
    "    \n",
    "\n",
    "def export(results):\n",
    "    print(f\"Resultssxxx saved to {Path.cwd()}/results.txt\")\n",
    "    f = open(\"results.txt\", \"w\")\n",
    "    f.write(results)\n",
    "    f.close()\n"
   ]
  },
  {
   "cell_type": "code",
   "execution_count": null,
   "metadata": {},
   "outputs": [],
   "source": []
  }
 ],
 "metadata": {
  "kernelspec": {
   "display_name": "Python 3",
   "language": "python",
   "name": "python3"
  },
  "language_info": {
   "codemirror_mode": {
    "name": "ipython",
    "version": 3
   },
   "file_extension": ".py",
   "mimetype": "text/x-python",
   "name": "python",
   "nbconvert_exporter": "python",
   "pygments_lexer": "ipython3",
   "version": "3.8.3"
  }
 },
 "nbformat": 4,
 "nbformat_minor": 4
}
