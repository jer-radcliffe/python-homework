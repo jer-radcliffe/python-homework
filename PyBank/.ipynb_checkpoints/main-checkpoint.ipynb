{
 "cells": [
  {
   "cell_type": "raw",
   "metadata": {},
   "source": [
    "Financial Analysis\n",
    "----------------------------\n",
    "Total Months: 86\n",
    "Total: $38382578\n",
    "Average  Change: $-2315.12\n",
    "Greatest Increase in Profits: Feb-2012 ($1926159)\n",
    "Greatest Decrease in Profits: Sep-2013 ($-2196167)\n",
    "\n",
    "\n",
    "Your final script should print the analysis to the terminal and export a text file with the results.\n",
    "\n"
   ]
  },
  {
   "cell_type": "code",
   "execution_count": 133,
   "metadata": {},
   "outputs": [
    {
     "name": "stdout",
     "output_type": "stream",
     "text": [
      "Financial Analysis\n",
      "----------------------------\n",
      "Total Months: 86\n",
      "Total: $38382578\n",
      "Average Change: $-2315.12\n",
      "Greatest Increase in Profits: Feb-2012 ($1926159)\n",
      "Greatest Decrease in Profits: Sep-2013 ($-2196167)\n",
      "\n"
     ]
    }
   ],
   "source": [
    "import csv\n",
    "\n",
    "#open csv file\n",
    "data = open('resources/budget_data.csv', encoding='utf-8')\n",
    "\n",
    "#read as csv as convert to list\n",
    "csv_data = csv.reader(data)\n",
    "data_lines = list(csv_data)\n",
    "\n",
    "#intialize variables\n",
    "total_months = len(data_lines) - 1  #ignores header line\n",
    "total = 0    #total sum of p&ls\n",
    "changes = [] #list for all changes to get average change\n",
    "prev_change = 0  #holder for comparison\n",
    "prev_amount = 0  #holder for comparison\n",
    "max_increase = 0 #holder for comparison\n",
    "max_increase_month = ''  #holder for reference\n",
    "max_decrease = 0         #holder for comparison\n",
    "max_decrease_month = ''  #holder for reference\n",
    "\n",
    "for row in data_lines[1:]:  #read csv data line by line ignoring header\n",
    "    \n",
    "    #unpack the row\n",
    "    date,curr_amount = row\n",
    "\n",
    "    #capture the change between current and previous\n",
    "    change = int(curr_amount) - int(prev_amount)\n",
    "    \n",
    "    #save current row data for next loop\n",
    "    changes.append(change)\n",
    "    prev_amount = curr_amount\n",
    "    prev_change = change\n",
    "    \n",
    "    #update max incr/decr with dates\n",
    "    if change > max_increase:\n",
    "        max_increase = change\n",
    "        max_increase_month = date\n",
    "    elif change < max_decrease:\n",
    "        max_decrease = change\n",
    "        max_decrease_month = date\n",
    "    \n",
    "    total+= int(curr_amount)\n",
    "\n",
    "#shift series 1 to remove first period\n",
    "changes.pop(0)\n",
    "average_change = 0\n",
    "average_change = round(sum(changes) / (total_months-1),2)\n",
    "\n",
    "#evaluate results\n",
    "eval()\n",
    "\n",
    "def eval():\n",
    "    #print(changes)\n",
    "    #print(changes_dictionary)\n",
    "    res = ''\n",
    "    res = 'Financial Analysis\\n'\n",
    "    res+= '-' *28 + '\\n'\n",
    "    res+= 'Total Months: {}\\n'.format(total_months)\n",
    "    res+= 'Total: ${}\\n'.format(total)\n",
    "    res+= 'Average Change: ${}\\n'.format(average_change)\n",
    "    res+= 'Greatest Increase in Profits: {} (${})\\n'.format(max_increase_month,max_increase)\n",
    "    res+= 'Greatest Decrease in Profits: {} (${})\\n'.format(max_decrease_month,max_decrease)\n",
    "    \n",
    "    #show to console\n",
    "    print(res)\n",
    "    \n",
    "    #export\n",
    "    export(res)\n",
    "    \n",
    "\n",
    "def export(results):\n",
    "    print('exporting results')\n",
    "    f = open(\"results.txt\", \"w\")\n",
    "    f.write(results)\n",
    "    f.close()\n"
   ]
  },
  {
   "cell_type": "code",
   "execution_count": null,
   "metadata": {},
   "outputs": [],
   "source": []
  }
 ],
 "metadata": {
  "kernelspec": {
   "display_name": "Python 3",
   "language": "python",
   "name": "python3"
  },
  "language_info": {
   "codemirror_mode": {
    "name": "ipython",
    "version": 3
   },
   "file_extension": ".py",
   "mimetype": "text/x-python",
   "name": "python",
   "nbconvert_exporter": "python",
   "pygments_lexer": "ipython3",
   "version": "3.8.3"
  }
 },
 "nbformat": 4,
 "nbformat_minor": 4
}
